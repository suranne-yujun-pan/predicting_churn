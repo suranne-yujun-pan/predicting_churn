{
 "cells": [
  {
   "cell_type": "markdown",
   "metadata": {},
   "source": [
    "# Predicting Customer Churn"
   ]
  },
  {
   "cell_type": "markdown",
   "metadata": {},
   "source": [
    "## 1. Introduction"
   ]
  },
  {
   "cell_type": "markdown",
   "metadata": {},
   "source": [
    "Churn prediction is one of the most important big data challenges in business analytics. Churn is defined as an existing customer stops or cancels services or prodcuts with a company. Churn rate, the percentage of customers churn given a time frame, is an important metric for a growing business. \n",
    "\n",
    "The datasets are obtained from the Kaggle challenge [*Telco Customer Churn*](https://www.kaggle.com/c/customer-churn-prediction-2020/overview), predicting whether a customer will change telecommunications provider. There are two datasets, training and test sets. However, the test set is a submission set that does not have outcome variable. Therefore, we will use the training set to train and validate the algorithm."
   ]
  },
  {
   "cell_type": "markdown",
   "metadata": {},
   "source": [
    "### 1.1 Load data"
   ]
  },
  {
   "cell_type": "code",
   "execution_count": 2,
   "metadata": {},
   "outputs": [],
   "source": [
    "import pandas as pd\n",
    "train = pd.read_csv(\"/Users/panyujun/Documents/Portfolio/customer_churn/data/train.csv\")\n",
    "test = pd.read_csv(\"/Users/panyujun/Documents/Portfolio/customer_churn/data/test.csv\") "
   ]
  },
  {
   "cell_type": "markdown",
   "metadata": {},
   "source": [
    "Now let's take a look at the sizes of both datasets."
   ]
  },
  {
   "cell_type": "code",
   "execution_count": 3,
   "metadata": {},
   "outputs": [
    {
     "data": {
      "text/plain": [
       "(4250, 20)"
      ]
     },
     "execution_count": 3,
     "metadata": {},
     "output_type": "execute_result"
    }
   ],
   "source": [
    "train.shape"
   ]
  },
  {
   "cell_type": "code",
   "execution_count": 4,
   "metadata": {
    "scrolled": false
   },
   "outputs": [
    {
     "data": {
      "text/plain": [
       "(750, 20)"
      ]
     },
     "execution_count": 4,
     "metadata": {},
     "output_type": "execute_result"
    }
   ],
   "source": [
    "test.shape"
   ]
  },
  {
   "cell_type": "markdown",
   "metadata": {},
   "source": [
    "Though both datasets contain 20 variables, the test set does not have the **churn** variable, which is the outcome variable. Instead, it contains the **id** variable that Kaggle uses to evaluate the submission."
   ]
  },
  {
   "cell_type": "markdown",
   "metadata": {},
   "source": [
    "Now, let's have a glimpse of the data."
   ]
  },
  {
   "cell_type": "code",
   "execution_count": 5,
   "metadata": {
    "scrolled": true
   },
   "outputs": [
    {
     "name": "stdout",
     "output_type": "stream",
     "text": [
      "<class 'pandas.core.frame.DataFrame'>\n",
      "RangeIndex: 4250 entries, 0 to 4249\n",
      "Data columns (total 20 columns):\n",
      "state                            4250 non-null object\n",
      "account_length                   4250 non-null int64\n",
      "area_code                        4250 non-null object\n",
      "international_plan               4250 non-null object\n",
      "voice_mail_plan                  4250 non-null object\n",
      "number_vmail_messages            4250 non-null int64\n",
      "total_day_minutes                4250 non-null float64\n",
      "total_day_calls                  4250 non-null int64\n",
      "total_day_charge                 4250 non-null float64\n",
      "total_eve_minutes                4250 non-null float64\n",
      "total_eve_calls                  4250 non-null int64\n",
      "total_eve_charge                 4250 non-null float64\n",
      "total_night_minutes              4250 non-null float64\n",
      "total_night_calls                4250 non-null int64\n",
      "total_night_charge               4250 non-null float64\n",
      "total_intl_minutes               4250 non-null float64\n",
      "total_intl_calls                 4250 non-null int64\n",
      "total_intl_charge                4250 non-null float64\n",
      "number_customer_service_calls    4250 non-null int64\n",
      "churn                            4250 non-null object\n",
      "dtypes: float64(8), int64(7), object(5)\n",
      "memory usage: 664.1+ KB\n"
     ]
    }
   ],
   "source": [
    "train.info()"
   ]
  },
  {
   "cell_type": "code",
   "execution_count": 6,
   "metadata": {},
   "outputs": [
    {
     "data": {
      "text/html": [
       "<div>\n",
       "<style scoped>\n",
       "    .dataframe tbody tr th:only-of-type {\n",
       "        vertical-align: middle;\n",
       "    }\n",
       "\n",
       "    .dataframe tbody tr th {\n",
       "        vertical-align: top;\n",
       "    }\n",
       "\n",
       "    .dataframe thead th {\n",
       "        text-align: right;\n",
       "    }\n",
       "</style>\n",
       "<table border=\"1\" class=\"dataframe\">\n",
       "  <thead>\n",
       "    <tr style=\"text-align: right;\">\n",
       "      <th></th>\n",
       "      <th>state</th>\n",
       "      <th>account_length</th>\n",
       "      <th>area_code</th>\n",
       "      <th>international_plan</th>\n",
       "      <th>voice_mail_plan</th>\n",
       "      <th>number_vmail_messages</th>\n",
       "      <th>total_day_minutes</th>\n",
       "      <th>total_day_calls</th>\n",
       "      <th>total_day_charge</th>\n",
       "      <th>total_eve_minutes</th>\n",
       "      <th>total_eve_calls</th>\n",
       "      <th>total_eve_charge</th>\n",
       "      <th>total_night_minutes</th>\n",
       "      <th>total_night_calls</th>\n",
       "      <th>total_night_charge</th>\n",
       "      <th>total_intl_minutes</th>\n",
       "      <th>total_intl_calls</th>\n",
       "      <th>total_intl_charge</th>\n",
       "      <th>number_customer_service_calls</th>\n",
       "      <th>churn</th>\n",
       "    </tr>\n",
       "  </thead>\n",
       "  <tbody>\n",
       "    <tr>\n",
       "      <th>0</th>\n",
       "      <td>OH</td>\n",
       "      <td>107</td>\n",
       "      <td>area_code_415</td>\n",
       "      <td>no</td>\n",
       "      <td>yes</td>\n",
       "      <td>26</td>\n",
       "      <td>161.6</td>\n",
       "      <td>123</td>\n",
       "      <td>27.47</td>\n",
       "      <td>195.5</td>\n",
       "      <td>103</td>\n",
       "      <td>16.62</td>\n",
       "      <td>254.4</td>\n",
       "      <td>103</td>\n",
       "      <td>11.45</td>\n",
       "      <td>13.7</td>\n",
       "      <td>3</td>\n",
       "      <td>3.70</td>\n",
       "      <td>1</td>\n",
       "      <td>no</td>\n",
       "    </tr>\n",
       "    <tr>\n",
       "      <th>1</th>\n",
       "      <td>NJ</td>\n",
       "      <td>137</td>\n",
       "      <td>area_code_415</td>\n",
       "      <td>no</td>\n",
       "      <td>no</td>\n",
       "      <td>0</td>\n",
       "      <td>243.4</td>\n",
       "      <td>114</td>\n",
       "      <td>41.38</td>\n",
       "      <td>121.2</td>\n",
       "      <td>110</td>\n",
       "      <td>10.30</td>\n",
       "      <td>162.6</td>\n",
       "      <td>104</td>\n",
       "      <td>7.32</td>\n",
       "      <td>12.2</td>\n",
       "      <td>5</td>\n",
       "      <td>3.29</td>\n",
       "      <td>0</td>\n",
       "      <td>no</td>\n",
       "    </tr>\n",
       "    <tr>\n",
       "      <th>2</th>\n",
       "      <td>OH</td>\n",
       "      <td>84</td>\n",
       "      <td>area_code_408</td>\n",
       "      <td>yes</td>\n",
       "      <td>no</td>\n",
       "      <td>0</td>\n",
       "      <td>299.4</td>\n",
       "      <td>71</td>\n",
       "      <td>50.90</td>\n",
       "      <td>61.9</td>\n",
       "      <td>88</td>\n",
       "      <td>5.26</td>\n",
       "      <td>196.9</td>\n",
       "      <td>89</td>\n",
       "      <td>8.86</td>\n",
       "      <td>6.6</td>\n",
       "      <td>7</td>\n",
       "      <td>1.78</td>\n",
       "      <td>2</td>\n",
       "      <td>no</td>\n",
       "    </tr>\n",
       "    <tr>\n",
       "      <th>3</th>\n",
       "      <td>OK</td>\n",
       "      <td>75</td>\n",
       "      <td>area_code_415</td>\n",
       "      <td>yes</td>\n",
       "      <td>no</td>\n",
       "      <td>0</td>\n",
       "      <td>166.7</td>\n",
       "      <td>113</td>\n",
       "      <td>28.34</td>\n",
       "      <td>148.3</td>\n",
       "      <td>122</td>\n",
       "      <td>12.61</td>\n",
       "      <td>186.9</td>\n",
       "      <td>121</td>\n",
       "      <td>8.41</td>\n",
       "      <td>10.1</td>\n",
       "      <td>3</td>\n",
       "      <td>2.73</td>\n",
       "      <td>3</td>\n",
       "      <td>no</td>\n",
       "    </tr>\n",
       "  </tbody>\n",
       "</table>\n",
       "</div>"
      ],
      "text/plain": [
       "  state  account_length      area_code international_plan voice_mail_plan  \\\n",
       "0    OH             107  area_code_415                 no             yes   \n",
       "1    NJ             137  area_code_415                 no              no   \n",
       "2    OH              84  area_code_408                yes              no   \n",
       "3    OK              75  area_code_415                yes              no   \n",
       "\n",
       "   number_vmail_messages  total_day_minutes  total_day_calls  \\\n",
       "0                     26              161.6              123   \n",
       "1                      0              243.4              114   \n",
       "2                      0              299.4               71   \n",
       "3                      0              166.7              113   \n",
       "\n",
       "   total_day_charge  total_eve_minutes  total_eve_calls  total_eve_charge  \\\n",
       "0             27.47              195.5              103             16.62   \n",
       "1             41.38              121.2              110             10.30   \n",
       "2             50.90               61.9               88              5.26   \n",
       "3             28.34              148.3              122             12.61   \n",
       "\n",
       "   total_night_minutes  total_night_calls  total_night_charge  \\\n",
       "0                254.4                103               11.45   \n",
       "1                162.6                104                7.32   \n",
       "2                196.9                 89                8.86   \n",
       "3                186.9                121                8.41   \n",
       "\n",
       "   total_intl_minutes  total_intl_calls  total_intl_charge  \\\n",
       "0                13.7                 3               3.70   \n",
       "1                12.2                 5               3.29   \n",
       "2                 6.6                 7               1.78   \n",
       "3                10.1                 3               2.73   \n",
       "\n",
       "   number_customer_service_calls churn  \n",
       "0                              1    no  \n",
       "1                              0    no  \n",
       "2                              2    no  \n",
       "3                              3    no  "
      ]
     },
     "execution_count": 6,
     "metadata": {},
     "output_type": "execute_result"
    }
   ],
   "source": [
    "train.head(4)"
   ]
  },
  {
   "cell_type": "markdown",
   "metadata": {},
   "source": [
    "As we can see, variables `state`, `area_code`, `international_plan`, `voice_mail_plan` and `churn` are categorical variables and their values are strings, which may need to be recoded depends on the machine learning alghrithm we choose."
   ]
  },
  {
   "cell_type": "markdown",
   "metadata": {},
   "source": [
    "## 2. Feature Selection and Feature Engineering"
   ]
  },
  {
   "cell_type": "markdown",
   "metadata": {},
   "source": [
    "### 2.1 Do we need ID variables?"
   ]
  },
  {
   "cell_type": "markdown",
   "metadata": {},
   "source": [
    "We have a couple of ID variables here: `state` and `area_code`. They are geographical variables that contains dozens of string values. One way we can encode these variables is the **one-hot encoding**, that make each unique value a binary variable. However, in this case, they are computing expensive. We may come back later and see if it will improve the overall prediction later on.\n",
    "\n",
    "For now, we will drop them."
   ]
  },
  {
   "cell_type": "code",
   "execution_count": 7,
   "metadata": {},
   "outputs": [],
   "source": [
    "train = train.drop(['state', 'area_code'], axis=1)"
   ]
  },
  {
   "cell_type": "markdown",
   "metadata": {},
   "source": [
    "### 2.2 `voice_mail_plan` and `number_vmail_messages`"
   ]
  },
  {
   "cell_type": "markdown",
   "metadata": {},
   "source": [
    "The first pair of variables catched my eyes are `voice_mail_plan` and `number_vmail_messages`. They clearly convey the same information. Although one is a binary variable and the other one is numeric. Let's take a look at a 2 by 2 contingency table:"
   ]
  },
  {
   "cell_type": "code",
   "execution_count": 8,
   "metadata": {
    "scrolled": false
   },
   "outputs": [
    {
     "data": {
      "text/html": [
       "<div>\n",
       "<style scoped>\n",
       "    .dataframe tbody tr th:only-of-type {\n",
       "        vertical-align: middle;\n",
       "    }\n",
       "\n",
       "    .dataframe tbody tr th {\n",
       "        vertical-align: top;\n",
       "    }\n",
       "\n",
       "    .dataframe thead th {\n",
       "        text-align: right;\n",
       "    }\n",
       "</style>\n",
       "<table border=\"1\" class=\"dataframe\">\n",
       "  <thead>\n",
       "    <tr style=\"text-align: right;\">\n",
       "      <th>number_vmail_messages</th>\n",
       "      <th>0</th>\n",
       "      <th>4</th>\n",
       "      <th>6</th>\n",
       "      <th>8</th>\n",
       "      <th>10</th>\n",
       "      <th>11</th>\n",
       "      <th>12</th>\n",
       "      <th>13</th>\n",
       "      <th>14</th>\n",
       "      <th>15</th>\n",
       "      <th>...</th>\n",
       "      <th>42</th>\n",
       "      <th>43</th>\n",
       "      <th>44</th>\n",
       "      <th>45</th>\n",
       "      <th>46</th>\n",
       "      <th>47</th>\n",
       "      <th>48</th>\n",
       "      <th>49</th>\n",
       "      <th>50</th>\n",
       "      <th>52</th>\n",
       "    </tr>\n",
       "    <tr>\n",
       "      <th>voice_mail_plan</th>\n",
       "      <th></th>\n",
       "      <th></th>\n",
       "      <th></th>\n",
       "      <th></th>\n",
       "      <th></th>\n",
       "      <th></th>\n",
       "      <th></th>\n",
       "      <th></th>\n",
       "      <th></th>\n",
       "      <th></th>\n",
       "      <th></th>\n",
       "      <th></th>\n",
       "      <th></th>\n",
       "      <th></th>\n",
       "      <th></th>\n",
       "      <th></th>\n",
       "      <th></th>\n",
       "      <th></th>\n",
       "      <th></th>\n",
       "      <th></th>\n",
       "      <th></th>\n",
       "    </tr>\n",
       "  </thead>\n",
       "  <tbody>\n",
       "    <tr>\n",
       "      <th>no</th>\n",
       "      <td>3138</td>\n",
       "      <td>0</td>\n",
       "      <td>0</td>\n",
       "      <td>0</td>\n",
       "      <td>0</td>\n",
       "      <td>0</td>\n",
       "      <td>0</td>\n",
       "      <td>0</td>\n",
       "      <td>0</td>\n",
       "      <td>0</td>\n",
       "      <td>...</td>\n",
       "      <td>0</td>\n",
       "      <td>0</td>\n",
       "      <td>0</td>\n",
       "      <td>0</td>\n",
       "      <td>0</td>\n",
       "      <td>0</td>\n",
       "      <td>0</td>\n",
       "      <td>0</td>\n",
       "      <td>0</td>\n",
       "      <td>0</td>\n",
       "    </tr>\n",
       "    <tr>\n",
       "      <th>yes</th>\n",
       "      <td>1</td>\n",
       "      <td>1</td>\n",
       "      <td>2</td>\n",
       "      <td>2</td>\n",
       "      <td>4</td>\n",
       "      <td>2</td>\n",
       "      <td>10</td>\n",
       "      <td>3</td>\n",
       "      <td>7</td>\n",
       "      <td>12</td>\n",
       "      <td>...</td>\n",
       "      <td>17</td>\n",
       "      <td>13</td>\n",
       "      <td>7</td>\n",
       "      <td>10</td>\n",
       "      <td>7</td>\n",
       "      <td>4</td>\n",
       "      <td>4</td>\n",
       "      <td>3</td>\n",
       "      <td>2</td>\n",
       "      <td>1</td>\n",
       "    </tr>\n",
       "  </tbody>\n",
       "</table>\n",
       "<p>2 rows × 46 columns</p>\n",
       "</div>"
      ],
      "text/plain": [
       "number_vmail_messages    0   4   6   8   10  11  12  13  14  15 ...  42  43  \\\n",
       "voice_mail_plan                                                 ...           \n",
       "no                     3138   0   0   0   0   0   0   0   0   0 ...   0   0   \n",
       "yes                       1   1   2   2   4   2  10   3   7  12 ...  17  13   \n",
       "\n",
       "number_vmail_messages  44  45  46  47  48  49  50  52  \n",
       "voice_mail_plan                                        \n",
       "no                      0   0   0   0   0   0   0   0  \n",
       "yes                     7  10   7   4   4   3   2   1  \n",
       "\n",
       "[2 rows x 46 columns]"
      ]
     },
     "execution_count": 8,
     "metadata": {},
     "output_type": "execute_result"
    }
   ],
   "source": [
    "pd.crosstab(train.voice_mail_plan, train.number_vmail_messages)"
   ]
  },
  {
   "cell_type": "markdown",
   "metadata": {},
   "source": [
    "Except for the one observation that seems like an error, for all the customers who does not have a voice mail plan, their number of voice mail messages is 0. Let's make the correction here. "
   ]
  },
  {
   "cell_type": "code",
   "execution_count": 9,
   "metadata": {},
   "outputs": [],
   "source": [
    "train.loc[train.number_vmail_messages == 0, 'voice_mail_plan'] = 'no'"
   ]
  },
  {
   "cell_type": "markdown",
   "metadata": {},
   "source": [
    "### 2.3 Total minutes, calls and charge during the day, in the evening and at night"
   ]
  },
  {
   "cell_type": "markdown",
   "metadata": {},
   "source": [
    "I couldn't help noticing the 9 variables correspoinding to the total minutes, calls and charge during the day, in the evening and at night: \n",
    "\n",
    "`total_day_minutes`, `total_day_calls`,\t`total_day_charge`, `total_eve_minutes`,\t`total_eve_calls`,\t`total_eve_charge`,\t`total_night_minutes`, `total_night_calls`,\t`total_night_charge`\n",
    "\n",
    "Oh, don't forget about the `total_intl_minutes`, `total_intl_calls`, `total_intl_charge`\n",
    "\n",
    "I understand how they can influence the customers' behavior but do we really need to be that specific? Let's do some digging."
   ]
  },
  {
   "cell_type": "markdown",
   "metadata": {},
   "source": [
    "First, we should decide if we can keep all of the variables. We are very likely to drop or recode them. Let's check out the correlations:"
   ]
  },
  {
   "cell_type": "code",
   "execution_count": 10,
   "metadata": {},
   "outputs": [
    {
     "data": {
      "text/html": [
       "<div>\n",
       "<style scoped>\n",
       "    .dataframe tbody tr th:only-of-type {\n",
       "        vertical-align: middle;\n",
       "    }\n",
       "\n",
       "    .dataframe tbody tr th {\n",
       "        vertical-align: top;\n",
       "    }\n",
       "\n",
       "    .dataframe thead th {\n",
       "        text-align: right;\n",
       "    }\n",
       "</style>\n",
       "<table border=\"1\" class=\"dataframe\">\n",
       "  <thead>\n",
       "    <tr style=\"text-align: right;\">\n",
       "      <th></th>\n",
       "      <th>account_length</th>\n",
       "      <th>number_vmail_messages</th>\n",
       "      <th>total_day_minutes</th>\n",
       "      <th>total_day_calls</th>\n",
       "      <th>total_day_charge</th>\n",
       "      <th>total_eve_minutes</th>\n",
       "      <th>total_eve_calls</th>\n",
       "      <th>total_eve_charge</th>\n",
       "      <th>total_night_minutes</th>\n",
       "      <th>total_night_calls</th>\n",
       "      <th>total_night_charge</th>\n",
       "      <th>total_intl_minutes</th>\n",
       "      <th>total_intl_calls</th>\n",
       "      <th>total_intl_charge</th>\n",
       "      <th>number_customer_service_calls</th>\n",
       "    </tr>\n",
       "  </thead>\n",
       "  <tbody>\n",
       "    <tr>\n",
       "      <th>account_length</th>\n",
       "      <td>1.000000</td>\n",
       "      <td>-0.006626</td>\n",
       "      <td>-0.001612</td>\n",
       "      <td>0.023002</td>\n",
       "      <td>-0.001613</td>\n",
       "      <td>-0.010326</td>\n",
       "      <td>0.005535</td>\n",
       "      <td>-0.010322</td>\n",
       "      <td>-0.009916</td>\n",
       "      <td>-0.001846</td>\n",
       "      <td>-0.009942</td>\n",
       "      <td>0.004539</td>\n",
       "      <td>0.013690</td>\n",
       "      <td>0.004494</td>\n",
       "      <td>0.001002</td>\n",
       "    </tr>\n",
       "    <tr>\n",
       "      <th>number_vmail_messages</th>\n",
       "      <td>-0.006626</td>\n",
       "      <td>1.000000</td>\n",
       "      <td>0.002000</td>\n",
       "      <td>-0.006920</td>\n",
       "      <td>0.001994</td>\n",
       "      <td>0.010725</td>\n",
       "      <td>0.003593</td>\n",
       "      <td>0.010736</td>\n",
       "      <td>0.018308</td>\n",
       "      <td>0.001977</td>\n",
       "      <td>0.018300</td>\n",
       "      <td>0.005220</td>\n",
       "      <td>0.006585</td>\n",
       "      <td>0.005249</td>\n",
       "      <td>-0.015303</td>\n",
       "    </tr>\n",
       "    <tr>\n",
       "      <th>total_day_minutes</th>\n",
       "      <td>-0.001612</td>\n",
       "      <td>0.002000</td>\n",
       "      <td>1.000000</td>\n",
       "      <td>0.000747</td>\n",
       "      <td>1.000000</td>\n",
       "      <td>-0.013248</td>\n",
       "      <td>0.005986</td>\n",
       "      <td>-0.013258</td>\n",
       "      <td>0.010049</td>\n",
       "      <td>-0.004812</td>\n",
       "      <td>0.010036</td>\n",
       "      <td>-0.021369</td>\n",
       "      <td>0.003859</td>\n",
       "      <td>-0.021291</td>\n",
       "      <td>-0.002925</td>\n",
       "    </tr>\n",
       "    <tr>\n",
       "      <th>total_day_calls</th>\n",
       "      <td>0.023002</td>\n",
       "      <td>-0.006920</td>\n",
       "      <td>0.000747</td>\n",
       "      <td>1.000000</td>\n",
       "      <td>0.000751</td>\n",
       "      <td>0.008661</td>\n",
       "      <td>0.003739</td>\n",
       "      <td>0.008663</td>\n",
       "      <td>0.002206</td>\n",
       "      <td>-0.004815</td>\n",
       "      <td>0.002200</td>\n",
       "      <td>0.008834</td>\n",
       "      <td>0.009377</td>\n",
       "      <td>0.008909</td>\n",
       "      <td>-0.015845</td>\n",
       "    </tr>\n",
       "    <tr>\n",
       "      <th>total_day_charge</th>\n",
       "      <td>-0.001613</td>\n",
       "      <td>0.001994</td>\n",
       "      <td>1.000000</td>\n",
       "      <td>0.000751</td>\n",
       "      <td>1.000000</td>\n",
       "      <td>-0.013247</td>\n",
       "      <td>0.005985</td>\n",
       "      <td>-0.013257</td>\n",
       "      <td>0.010053</td>\n",
       "      <td>-0.004816</td>\n",
       "      <td>0.010040</td>\n",
       "      <td>-0.021374</td>\n",
       "      <td>0.003853</td>\n",
       "      <td>-0.021296</td>\n",
       "      <td>-0.002932</td>\n",
       "    </tr>\n",
       "    <tr>\n",
       "      <th>total_eve_minutes</th>\n",
       "      <td>-0.010326</td>\n",
       "      <td>0.010725</td>\n",
       "      <td>-0.013248</td>\n",
       "      <td>0.008661</td>\n",
       "      <td>-0.013247</td>\n",
       "      <td>1.000000</td>\n",
       "      <td>0.003101</td>\n",
       "      <td>1.000000</td>\n",
       "      <td>-0.014018</td>\n",
       "      <td>0.011973</td>\n",
       "      <td>-0.014031</td>\n",
       "      <td>-0.003509</td>\n",
       "      <td>0.012239</td>\n",
       "      <td>-0.003460</td>\n",
       "      <td>-0.010063</td>\n",
       "    </tr>\n",
       "    <tr>\n",
       "      <th>total_eve_calls</th>\n",
       "      <td>0.005535</td>\n",
       "      <td>0.003593</td>\n",
       "      <td>0.005986</td>\n",
       "      <td>0.003739</td>\n",
       "      <td>0.005985</td>\n",
       "      <td>0.003101</td>\n",
       "      <td>1.000000</td>\n",
       "      <td>0.003120</td>\n",
       "      <td>0.008425</td>\n",
       "      <td>-0.011929</td>\n",
       "      <td>0.008441</td>\n",
       "      <td>-0.013096</td>\n",
       "      <td>0.004949</td>\n",
       "      <td>-0.013145</td>\n",
       "      <td>0.006956</td>\n",
       "    </tr>\n",
       "    <tr>\n",
       "      <th>total_eve_charge</th>\n",
       "      <td>-0.010322</td>\n",
       "      <td>0.010736</td>\n",
       "      <td>-0.013258</td>\n",
       "      <td>0.008663</td>\n",
       "      <td>-0.013257</td>\n",
       "      <td>1.000000</td>\n",
       "      <td>0.003120</td>\n",
       "      <td>1.000000</td>\n",
       "      <td>-0.014022</td>\n",
       "      <td>0.011971</td>\n",
       "      <td>-0.014035</td>\n",
       "      <td>-0.003512</td>\n",
       "      <td>0.012239</td>\n",
       "      <td>-0.003463</td>\n",
       "      <td>-0.010071</td>\n",
       "    </tr>\n",
       "    <tr>\n",
       "      <th>total_night_minutes</th>\n",
       "      <td>-0.009916</td>\n",
       "      <td>0.018308</td>\n",
       "      <td>0.010049</td>\n",
       "      <td>0.002206</td>\n",
       "      <td>0.010053</td>\n",
       "      <td>-0.014018</td>\n",
       "      <td>0.008425</td>\n",
       "      <td>-0.014022</td>\n",
       "      <td>1.000000</td>\n",
       "      <td>0.023815</td>\n",
       "      <td>0.999999</td>\n",
       "      <td>-0.000113</td>\n",
       "      <td>-0.024280</td>\n",
       "      <td>-0.000047</td>\n",
       "      <td>-0.013771</td>\n",
       "    </tr>\n",
       "    <tr>\n",
       "      <th>total_night_calls</th>\n",
       "      <td>-0.001846</td>\n",
       "      <td>0.001977</td>\n",
       "      <td>-0.004812</td>\n",
       "      <td>-0.004815</td>\n",
       "      <td>-0.004816</td>\n",
       "      <td>0.011973</td>\n",
       "      <td>-0.011929</td>\n",
       "      <td>0.011971</td>\n",
       "      <td>0.023815</td>\n",
       "      <td>1.000000</td>\n",
       "      <td>0.023798</td>\n",
       "      <td>0.001093</td>\n",
       "      <td>0.003851</td>\n",
       "      <td>0.001054</td>\n",
       "      <td>-0.008893</td>\n",
       "    </tr>\n",
       "    <tr>\n",
       "      <th>total_night_charge</th>\n",
       "      <td>-0.009942</td>\n",
       "      <td>0.018300</td>\n",
       "      <td>0.010036</td>\n",
       "      <td>0.002200</td>\n",
       "      <td>0.010040</td>\n",
       "      <td>-0.014031</td>\n",
       "      <td>0.008441</td>\n",
       "      <td>-0.014035</td>\n",
       "      <td>0.999999</td>\n",
       "      <td>0.023798</td>\n",
       "      <td>1.000000</td>\n",
       "      <td>-0.000103</td>\n",
       "      <td>-0.024260</td>\n",
       "      <td>-0.000037</td>\n",
       "      <td>-0.013761</td>\n",
       "    </tr>\n",
       "    <tr>\n",
       "      <th>total_intl_minutes</th>\n",
       "      <td>0.004539</td>\n",
       "      <td>0.005220</td>\n",
       "      <td>-0.021369</td>\n",
       "      <td>0.008834</td>\n",
       "      <td>-0.021374</td>\n",
       "      <td>-0.003509</td>\n",
       "      <td>-0.013096</td>\n",
       "      <td>-0.003512</td>\n",
       "      <td>-0.000113</td>\n",
       "      <td>0.001093</td>\n",
       "      <td>-0.000103</td>\n",
       "      <td>1.000000</td>\n",
       "      <td>0.019328</td>\n",
       "      <td>0.999993</td>\n",
       "      <td>-0.013994</td>\n",
       "    </tr>\n",
       "    <tr>\n",
       "      <th>total_intl_calls</th>\n",
       "      <td>0.013690</td>\n",
       "      <td>0.006585</td>\n",
       "      <td>0.003859</td>\n",
       "      <td>0.009377</td>\n",
       "      <td>0.003853</td>\n",
       "      <td>0.012239</td>\n",
       "      <td>0.004949</td>\n",
       "      <td>0.012239</td>\n",
       "      <td>-0.024280</td>\n",
       "      <td>0.003851</td>\n",
       "      <td>-0.024260</td>\n",
       "      <td>0.019328</td>\n",
       "      <td>1.000000</td>\n",
       "      <td>0.019414</td>\n",
       "      <td>-0.015302</td>\n",
       "    </tr>\n",
       "    <tr>\n",
       "      <th>total_intl_charge</th>\n",
       "      <td>0.004494</td>\n",
       "      <td>0.005249</td>\n",
       "      <td>-0.021291</td>\n",
       "      <td>0.008909</td>\n",
       "      <td>-0.021296</td>\n",
       "      <td>-0.003460</td>\n",
       "      <td>-0.013145</td>\n",
       "      <td>-0.003463</td>\n",
       "      <td>-0.000047</td>\n",
       "      <td>0.001054</td>\n",
       "      <td>-0.000037</td>\n",
       "      <td>0.999993</td>\n",
       "      <td>0.019414</td>\n",
       "      <td>1.000000</td>\n",
       "      <td>-0.014051</td>\n",
       "    </tr>\n",
       "    <tr>\n",
       "      <th>number_customer_service_calls</th>\n",
       "      <td>0.001002</td>\n",
       "      <td>-0.015303</td>\n",
       "      <td>-0.002925</td>\n",
       "      <td>-0.015845</td>\n",
       "      <td>-0.002932</td>\n",
       "      <td>-0.010063</td>\n",
       "      <td>0.006956</td>\n",
       "      <td>-0.010071</td>\n",
       "      <td>-0.013771</td>\n",
       "      <td>-0.008893</td>\n",
       "      <td>-0.013761</td>\n",
       "      <td>-0.013994</td>\n",
       "      <td>-0.015302</td>\n",
       "      <td>-0.014051</td>\n",
       "      <td>1.000000</td>\n",
       "    </tr>\n",
       "  </tbody>\n",
       "</table>\n",
       "</div>"
      ],
      "text/plain": [
       "                               account_length  number_vmail_messages  \\\n",
       "account_length                       1.000000              -0.006626   \n",
       "number_vmail_messages               -0.006626               1.000000   \n",
       "total_day_minutes                   -0.001612               0.002000   \n",
       "total_day_calls                      0.023002              -0.006920   \n",
       "total_day_charge                    -0.001613               0.001994   \n",
       "total_eve_minutes                   -0.010326               0.010725   \n",
       "total_eve_calls                      0.005535               0.003593   \n",
       "total_eve_charge                    -0.010322               0.010736   \n",
       "total_night_minutes                 -0.009916               0.018308   \n",
       "total_night_calls                   -0.001846               0.001977   \n",
       "total_night_charge                  -0.009942               0.018300   \n",
       "total_intl_minutes                   0.004539               0.005220   \n",
       "total_intl_calls                     0.013690               0.006585   \n",
       "total_intl_charge                    0.004494               0.005249   \n",
       "number_customer_service_calls        0.001002              -0.015303   \n",
       "\n",
       "                               total_day_minutes  total_day_calls  \\\n",
       "account_length                         -0.001612         0.023002   \n",
       "number_vmail_messages                   0.002000        -0.006920   \n",
       "total_day_minutes                       1.000000         0.000747   \n",
       "total_day_calls                         0.000747         1.000000   \n",
       "total_day_charge                        1.000000         0.000751   \n",
       "total_eve_minutes                      -0.013248         0.008661   \n",
       "total_eve_calls                         0.005986         0.003739   \n",
       "total_eve_charge                       -0.013258         0.008663   \n",
       "total_night_minutes                     0.010049         0.002206   \n",
       "total_night_calls                      -0.004812        -0.004815   \n",
       "total_night_charge                      0.010036         0.002200   \n",
       "total_intl_minutes                     -0.021369         0.008834   \n",
       "total_intl_calls                        0.003859         0.009377   \n",
       "total_intl_charge                      -0.021291         0.008909   \n",
       "number_customer_service_calls          -0.002925        -0.015845   \n",
       "\n",
       "                               total_day_charge  total_eve_minutes  \\\n",
       "account_length                        -0.001613          -0.010326   \n",
       "number_vmail_messages                  0.001994           0.010725   \n",
       "total_day_minutes                      1.000000          -0.013248   \n",
       "total_day_calls                        0.000751           0.008661   \n",
       "total_day_charge                       1.000000          -0.013247   \n",
       "total_eve_minutes                     -0.013247           1.000000   \n",
       "total_eve_calls                        0.005985           0.003101   \n",
       "total_eve_charge                      -0.013257           1.000000   \n",
       "total_night_minutes                    0.010053          -0.014018   \n",
       "total_night_calls                     -0.004816           0.011973   \n",
       "total_night_charge                     0.010040          -0.014031   \n",
       "total_intl_minutes                    -0.021374          -0.003509   \n",
       "total_intl_calls                       0.003853           0.012239   \n",
       "total_intl_charge                     -0.021296          -0.003460   \n",
       "number_customer_service_calls         -0.002932          -0.010063   \n",
       "\n",
       "                               total_eve_calls  total_eve_charge  \\\n",
       "account_length                        0.005535         -0.010322   \n",
       "number_vmail_messages                 0.003593          0.010736   \n",
       "total_day_minutes                     0.005986         -0.013258   \n",
       "total_day_calls                       0.003739          0.008663   \n",
       "total_day_charge                      0.005985         -0.013257   \n",
       "total_eve_minutes                     0.003101          1.000000   \n",
       "total_eve_calls                       1.000000          0.003120   \n",
       "total_eve_charge                      0.003120          1.000000   \n",
       "total_night_minutes                   0.008425         -0.014022   \n",
       "total_night_calls                    -0.011929          0.011971   \n",
       "total_night_charge                    0.008441         -0.014035   \n",
       "total_intl_minutes                   -0.013096         -0.003512   \n",
       "total_intl_calls                      0.004949          0.012239   \n",
       "total_intl_charge                    -0.013145         -0.003463   \n",
       "number_customer_service_calls         0.006956         -0.010071   \n",
       "\n",
       "                               total_night_minutes  total_night_calls  \\\n",
       "account_length                           -0.009916          -0.001846   \n",
       "number_vmail_messages                     0.018308           0.001977   \n",
       "total_day_minutes                         0.010049          -0.004812   \n",
       "total_day_calls                           0.002206          -0.004815   \n",
       "total_day_charge                          0.010053          -0.004816   \n",
       "total_eve_minutes                        -0.014018           0.011973   \n",
       "total_eve_calls                           0.008425          -0.011929   \n",
       "total_eve_charge                         -0.014022           0.011971   \n",
       "total_night_minutes                       1.000000           0.023815   \n",
       "total_night_calls                         0.023815           1.000000   \n",
       "total_night_charge                        0.999999           0.023798   \n",
       "total_intl_minutes                       -0.000113           0.001093   \n",
       "total_intl_calls                         -0.024280           0.003851   \n",
       "total_intl_charge                        -0.000047           0.001054   \n",
       "number_customer_service_calls            -0.013771          -0.008893   \n",
       "\n",
       "                               total_night_charge  total_intl_minutes  \\\n",
       "account_length                          -0.009942            0.004539   \n",
       "number_vmail_messages                    0.018300            0.005220   \n",
       "total_day_minutes                        0.010036           -0.021369   \n",
       "total_day_calls                          0.002200            0.008834   \n",
       "total_day_charge                         0.010040           -0.021374   \n",
       "total_eve_minutes                       -0.014031           -0.003509   \n",
       "total_eve_calls                          0.008441           -0.013096   \n",
       "total_eve_charge                        -0.014035           -0.003512   \n",
       "total_night_minutes                      0.999999           -0.000113   \n",
       "total_night_calls                        0.023798            0.001093   \n",
       "total_night_charge                       1.000000           -0.000103   \n",
       "total_intl_minutes                      -0.000103            1.000000   \n",
       "total_intl_calls                        -0.024260            0.019328   \n",
       "total_intl_charge                       -0.000037            0.999993   \n",
       "number_customer_service_calls           -0.013761           -0.013994   \n",
       "\n",
       "                               total_intl_calls  total_intl_charge  \\\n",
       "account_length                         0.013690           0.004494   \n",
       "number_vmail_messages                  0.006585           0.005249   \n",
       "total_day_minutes                      0.003859          -0.021291   \n",
       "total_day_calls                        0.009377           0.008909   \n",
       "total_day_charge                       0.003853          -0.021296   \n",
       "total_eve_minutes                      0.012239          -0.003460   \n",
       "total_eve_calls                        0.004949          -0.013145   \n",
       "total_eve_charge                       0.012239          -0.003463   \n",
       "total_night_minutes                   -0.024280          -0.000047   \n",
       "total_night_calls                      0.003851           0.001054   \n",
       "total_night_charge                    -0.024260          -0.000037   \n",
       "total_intl_minutes                     0.019328           0.999993   \n",
       "total_intl_calls                       1.000000           0.019414   \n",
       "total_intl_charge                      0.019414           1.000000   \n",
       "number_customer_service_calls         -0.015302          -0.014051   \n",
       "\n",
       "                               number_customer_service_calls  \n",
       "account_length                                      0.001002  \n",
       "number_vmail_messages                              -0.015303  \n",
       "total_day_minutes                                  -0.002925  \n",
       "total_day_calls                                    -0.015845  \n",
       "total_day_charge                                   -0.002932  \n",
       "total_eve_minutes                                  -0.010063  \n",
       "total_eve_calls                                     0.006956  \n",
       "total_eve_charge                                   -0.010071  \n",
       "total_night_minutes                                -0.013771  \n",
       "total_night_calls                                  -0.008893  \n",
       "total_night_charge                                 -0.013761  \n",
       "total_intl_minutes                                 -0.013994  \n",
       "total_intl_calls                                   -0.015302  \n",
       "total_intl_charge                                  -0.014051  \n",
       "number_customer_service_calls                       1.000000  "
      ]
     },
     "execution_count": 10,
     "metadata": {},
     "output_type": "execute_result"
    }
   ],
   "source": [
    "train.corr()"
   ]
  },
  {
   "cell_type": "markdown",
   "metadata": {},
   "source": [
    "We can see that the pairs of `total_day_charge` and `total_day_calls`, `total_night_charge` and `total_night_minutes`, `total_intl_charge` and `total_intl_minutes` are highly correlated, and we must drop either one variable in the pairs. "
   ]
  },
  {
   "cell_type": "markdown",
   "metadata": {},
   "source": [
    "Now let's check if the times of the day or whether it is an international call or not can really influence the churn rate."
   ]
  },
  {
   "cell_type": "code",
   "execution_count": 11,
   "metadata": {},
   "outputs": [],
   "source": [
    "import numpy as np\n",
    "import matplotlib.pyplot as plt\n",
    "import seaborn as sns\n",
    "\n",
    "variables = ['total_day_minutes', 'total_eve_minutes', 'total_night_minutes', 'total_intl_minutes',\n",
    "            'total_day_calls', 'total_eve_calls', 'total_night_calls', 'total_intl_calls',\n",
    "             'total_day_charge', 'total_eve_charge', 'total_night_charge', 'total_intl_charge' \n",
    "            ]"
   ]
  },
  {
   "cell_type": "code",
   "execution_count": 12,
   "metadata": {},
   "outputs": [],
   "source": [
    "xlabs = ['day', 'eve', 'night', 'intl', '', '', '', '', '', '', '', '']\n",
    "\n",
    "ylabs = ['minutes', '','','',\n",
    "         'calls', '','','',\n",
    "         'charge','','','',]"
   ]
  },
  {
   "cell_type": "code",
   "execution_count": 13,
   "metadata": {
    "scrolled": true
   },
   "outputs": [
    {
     "data": {
      "image/png": "[encoded data removed]",
      "text/plain": [
       "<Figure size 720x720 with 12 Axes>"
      ]
     },
     "metadata": {
      "needs_background": "light"
     },
     "output_type": "display_data"
    }
   ],
   "source": [
    "fig, axs = plt.subplots(nrows=3, ncols=4, figsize=(10,10))\n",
    "i = j = 0\n",
    "for n in range(12):\n",
    "    g = sns.boxplot(x='churn', y=variables[n], data=train, ax=axs[i][j])\n",
    "    g.set_title(xlabs[n])\n",
    "    g.set_ylabel(ylabs[n])\n",
    "    g.set_yticks([])\n",
    "    j += 1\n",
    "    if j>3:\n",
    "        i += 1; j = 0"
   ]
  },
  {
   "cell_type": "markdown",
   "metadata": {},
   "source": [
    "As we can see here, for the number of calls, the times of days does not impact the churn rate. However, the total minutes and total charge are highly dependent on which times of the days. One important question to be asked: does the company charge different rates per minute based on the time of the day?"
   ]
  },
  {
   "cell_type": "markdown",
   "metadata": {},
   "source": [
    "Let's do some experimentation here. First, calculate the cost per minute by different times of the day and compare the rates."
   ]
  },
  {
   "cell_type": "code",
   "execution_count": 14,
   "metadata": {},
   "outputs": [],
   "source": [
    "train['day_charge_per_min'] = train['total_day_charge']/train['total_day_minutes']\n",
    "train['eve_charge_per_min'] = train['total_eve_charge']/train['total_eve_minutes']\n",
    "train['night_charge_per_min'] = train['total_night_charge']/train['total_night_minutes']\n",
    "train['intl_charge_per_min'] = train['total_intl_charge']/train['total_intl_minutes']\n",
    "new_vars = ['day_charge_per_min', 'eve_charge_per_min', 'night_charge_per_min',\n",
    "           'intl_charge_per_min']"
   ]
  },
  {
   "cell_type": "code",
   "execution_count": 15,
   "metadata": {
    "scrolled": true
   },
   "outputs": [
    {
     "data": {
      "text/plain": [
       "array([0.17 , 0.085, 0.045, 0.27 ])"
      ]
     },
     "execution_count": 15,
     "metadata": {},
     "output_type": "execute_result"
    }
   ],
   "source": [
    "np.around([train.day_charge_per_min.mean(), train.eve_charge_per_min.mean(), \n",
    "           train.night_charge_per_min.mean(), train.intl_charge_per_min.mean()], 3)"
   ]
  },
  {
   "cell_type": "markdown",
   "metadata": {},
   "source": [
    "Well I'm afraid they do charge different rates depending on the times of the day. However, does these rates differ by each customer, i.e. does the rates influence churn rates alone?"
   ]
  },
  {
   "cell_type": "code",
   "execution_count": 16,
   "metadata": {},
   "outputs": [
    {
     "data": {
      "image/png": "[encoded data removed]",
      "text/plain": [
       "<Figure size 1080x360 with 4 Axes>"
      ]
     },
     "metadata": {
      "needs_background": "light"
     },
     "output_type": "display_data"
    }
   ],
   "source": [
    "fig, axs = plt.subplots(nrows=1, ncols=4, figsize=(15,5))\n",
    "i = j = 0\n",
    "for n in range(4):\n",
    "    plt.subplot(1,4,n+1)\n",
    "    g = sns.boxplot(x='churn', y = new_vars[n], data=train)\n",
    "    g.set_title(new_vars[n])\n",
    "    g.set_ylabel([])\n",
    "    g.set_yticks([])\n",
    "    j += 1\n",
    "    "
   ]
  },
  {
   "cell_type": "markdown",
   "metadata": {},
   "source": [
    "So the different rates does not influence churn rates alone. It's more about the total usage and total cost that determines the churn rate. Therefore, we will drop the newly created variables."
   ]
  },
  {
   "cell_type": "code",
   "execution_count": 17,
   "metadata": {},
   "outputs": [],
   "source": [
    "train = train.drop(new_vars, axis=1)"
   ]
  },
  {
   "cell_type": "code",
   "execution_count": 18,
   "metadata": {},
   "outputs": [],
   "source": [
    "train['total_call'] = train['total_day_calls'] + train['total_eve_calls'] + train['total_night_calls']\n",
    "train['total_minutes'] = train['total_day_minutes'] + train['total_eve_minutes'] + train['total_night_minutes']\n",
    "train['total_charge'] = train['total_day_charge'] + train['total_eve_charge'] + train['total_night_charge']"
   ]
  },
  {
   "cell_type": "markdown",
   "metadata": {},
   "source": [
    "I'm a little hesitant to keep both `total_call` and `total_charge`. They both indicate usage and there's a high chance that they will be highly correlated."
   ]
  },
  {
   "cell_type": "code",
   "execution_count": 19,
   "metadata": {},
   "outputs": [
    {
     "data": {
      "text/html": [
       "<div>\n",
       "<style scoped>\n",
       "    .dataframe tbody tr th:only-of-type {\n",
       "        vertical-align: middle;\n",
       "    }\n",
       "\n",
       "    .dataframe tbody tr th {\n",
       "        vertical-align: top;\n",
       "    }\n",
       "\n",
       "    .dataframe thead th {\n",
       "        text-align: right;\n",
       "    }\n",
       "</style>\n",
       "<table border=\"1\" class=\"dataframe\">\n",
       "  <thead>\n",
       "    <tr style=\"text-align: right;\">\n",
       "      <th></th>\n",
       "      <th>total_call</th>\n",
       "      <th>total_charge</th>\n",
       "    </tr>\n",
       "  </thead>\n",
       "  <tbody>\n",
       "    <tr>\n",
       "      <th>total_call</th>\n",
       "      <td>1.000000</td>\n",
       "      <td>0.011061</td>\n",
       "    </tr>\n",
       "    <tr>\n",
       "      <th>total_charge</th>\n",
       "      <td>0.011061</td>\n",
       "      <td>1.000000</td>\n",
       "    </tr>\n",
       "  </tbody>\n",
       "</table>\n",
       "</div>"
      ],
      "text/plain": [
       "              total_call  total_charge\n",
       "total_call      1.000000      0.011061\n",
       "total_charge    0.011061      1.000000"
      ]
     },
     "execution_count": 19,
     "metadata": {},
     "output_type": "execute_result"
    }
   ],
   "source": [
    "train[['total_call', 'total_charge']].corr()"
   ]
  },
  {
   "cell_type": "markdown",
   "metadata": {},
   "source": [
    "Great! Let's keep both variables and let the algorithm decides."
   ]
  },
  {
   "cell_type": "markdown",
   "metadata": {},
   "source": [
    "### 2.3 Drop variables "
   ]
  },
  {
   "cell_type": "markdown",
   "metadata": {},
   "source": [
    "We have now done a exhausive examination of all the variables and it's time to drop additional variables."
   ]
  },
  {
   "cell_type": "code",
   "execution_count": 20,
   "metadata": {},
   "outputs": [],
   "source": [
    "variables_to_drop = ['number_vmail_messages',\n",
    "                     'total_day_minutes',\n",
    "                     'total_day_calls',\n",
    "                     'total_day_charge',\n",
    "                     'total_eve_minutes',\n",
    "                     'total_eve_calls',\n",
    "                     'total_eve_charge',\n",
    "                     'total_night_minutes',\n",
    "                     'total_night_calls',\n",
    "                     'total_night_charge',\n",
    "                     'total_intl_minutes',\n",
    "                     'total_intl_calls']\n",
    "train = train.drop(variables_to_drop, axis=1)"
   ]
  },
  {
   "cell_type": "markdown",
   "metadata": {},
   "source": [
    "### 2.4 Recoding binary variables"
   ]
  },
  {
   "cell_type": "markdown",
   "metadata": {},
   "source": [
    "Most classifiers in python do not work with strings. Therefore, a binary variable should be recoded as 0 and 1."
   ]
  },
  {
   "cell_type": "code",
   "execution_count": 21,
   "metadata": {},
   "outputs": [],
   "source": [
    "train['international_plan'] = train['international_plan'].replace({'no':0, 'yes':1}) \n",
    "train['voice_mail_plan'] = train['voice_mail_plan'].replace({'no':0, 'yes':1})"
   ]
  },
  {
   "cell_type": "markdown",
   "metadata": {},
   "source": [
    "##### Transform test set as well"
   ]
  },
  {
   "cell_type": "code",
   "execution_count": 22,
   "metadata": {},
   "outputs": [],
   "source": [
    "test = test.drop(['state', 'area_code'], axis=1)\n",
    "test.loc[test.number_vmail_messages == 0, 'voice_mail_plan'] = 'no'\n",
    "test['total_call'] = test['total_day_calls'] + test['total_eve_calls'] + test['total_night_calls']\n",
    "test['total_minutes'] = test['total_day_minutes'] + test['total_eve_minutes'] + test['total_night_minutes']\n",
    "test['total_charge'] = test['total_day_charge'] + test['total_eve_charge'] + test['total_night_charge']\n",
    "test = test.drop(variables_to_drop, axis=1)"
   ]
  },
  {
   "cell_type": "code",
   "execution_count": 92,
   "metadata": {},
   "outputs": [],
   "source": [
    "test['international_plan'] = test['international_plan'].replace({'no':0, 'yes':1}) \n",
    "test['voice_mail_plan'] = test['voice_mail_plan'].replace({'no':0, 'yes':1})"
   ]
  },
  {
   "cell_type": "markdown",
   "metadata": {},
   "source": [
    "## 3. Train a Random Forest Model"
   ]
  },
  {
   "cell_type": "markdown",
   "metadata": {},
   "source": [
    "### 3.1 Split training and testing sets"
   ]
  },
  {
   "cell_type": "markdown",
   "metadata": {},
   "source": [
    "To train the model and test the performance of the model, we need to first split the data into training and test set. Most people use a 80/20 proportion to split the dataset. However, in this case, I want to be more generous and use a 70/30 proportion. One important reason is that most churn datasets are unbalanced, meaning there are more customers who did not churn, compared to customers who do, so I want to allow sufficient samples to detect churning customers. "
   ]
  },
  {
   "cell_type": "code",
   "execution_count": 23,
   "metadata": {},
   "outputs": [],
   "source": [
    "from sklearn.model_selection import train_test_split\n",
    "from sklearn.ensemble import RandomForestClassifier\n",
    "\n",
    "X = train.drop('churn', axis=1)\n",
    "y = train['churn']\n",
    "\n",
    "X_train, X_test, y_train, y_test = train_test_split(X, y, test_size=0.3, random_state = 42)"
   ]
  },
  {
   "cell_type": "markdown",
   "metadata": {},
   "source": [
    "### 3.2 Train Model"
   ]
  },
  {
   "cell_type": "markdown",
   "metadata": {},
   "source": [
    "After spliting the dataset, it's time to fit the model. I choose the argument `boostrap` to be tree, which means that the Random Forest (RF) model will sample with replacement, which allows a bit more randomness in our results. We will likely see an improvement of performance in the test set."
   ]
  },
  {
   "cell_type": "code",
   "execution_count": 24,
   "metadata": {
    "scrolled": false
   },
   "outputs": [
    {
     "data": {
      "text/plain": [
       "RandomForestClassifier(oob_score=True, random_state=1)"
      ]
     },
     "execution_count": 24,
     "metadata": {},
     "output_type": "execute_result"
    }
   ],
   "source": [
    "clf = RandomForestClassifier(bootstrap=True, random_state = 1, oob_score=True)\n",
    "clf.fit(X_train, y_train)"
   ]
  },
  {
   "cell_type": "markdown",
   "metadata": {},
   "source": [
    "### 3.3 Evaluate Model Performance with Different Metrics"
   ]
  },
  {
   "cell_type": "markdown",
   "metadata": {},
   "source": [
    "Let's check accuracy:"
   ]
  },
  {
   "cell_type": "code",
   "execution_count": 25,
   "metadata": {
    "scrolled": false
   },
   "outputs": [
    {
     "name": "stdout",
     "output_type": "stream",
     "text": [
      "0.9576470588235294\n"
     ]
    }
   ],
   "source": [
    "print(clf.score(X_test, y_test))"
   ]
  },
  {
   "cell_type": "markdown",
   "metadata": {},
   "source": [
    "Wonderful! 95.76% of accuracy in the test set is great! However, remember earlier that we mentioned how the dataset is unbalanced?"
   ]
  },
  {
   "cell_type": "code",
   "execution_count": 26,
   "metadata": {
    "scrolled": true
   },
   "outputs": [
    {
     "data": {
      "text/plain": [
       "0.14"
      ]
     },
     "execution_count": 26,
     "metadata": {},
     "output_type": "execute_result"
    }
   ],
   "source": [
    "from statistics import  mean\n",
    "round(mean(train.churn == \"yes\"), 2)"
   ]
  },
  {
   "cell_type": "markdown",
   "metadata": {},
   "source": [
    "Only 14% of the data consists of customers who churn. We may need to find another statistics or metrics that evaluate our performance. We can turn to **sensitivity** or **recall_score**, i.e. for all the customer who churn, what is the proportion that they are accuratly detected? \n",
    "\n",
    "We can examine this from the confusion matrix, or use the imbeded function from sklearn."
   ]
  },
  {
   "cell_type": "code",
   "execution_count": 65,
   "metadata": {
    "scrolled": false
   },
   "outputs": [
    {
     "name": "stdout",
     "output_type": "stream",
     "text": [
      "[[1072    8]\n",
      " [  46  149]]\n"
     ]
    }
   ],
   "source": [
    "from sklearn.metrics import confusion_matrix\n",
    "y_pred = clf.predict(X_test)\n",
    "print(confusion_matrix(y_test, y_pred, labels=['no','yes']))"
   ]
  },
  {
   "cell_type": "code",
   "execution_count": 41,
   "metadata": {
    "scrolled": false
   },
   "outputs": [
    {
     "name": "stdout",
     "output_type": "stream",
     "text": [
      "0.764102564102564\n"
     ]
    }
   ],
   "source": [
    "from sklearn.metrics import recall_score\n",
    "print(recall_score(y_test, y_pred, average=\"binary\", pos_label='yes'))"
   ]
  },
  {
   "cell_type": "markdown",
   "metadata": {},
   "source": [
    "We have a 76.41% of sensitivity, which is a very satisfying performance.\n",
    "\n",
    "We are also interested in using a single metric to evaluate both accuracy and sensitivity. F1 score is calculated as the following:"
   ]
  },
  {
   "cell_type": "markdown",
   "metadata": {},
   "source": [
    "$2 \\times{\\frac{precision \\bullet recall}{precision + recall}}$"
   ]
  },
  {
   "cell_type": "code",
   "execution_count": 29,
   "metadata": {
    "scrolled": true
   },
   "outputs": [
    {
     "name": "stdout",
     "output_type": "stream",
     "text": [
      "0.8465909090909091\n"
     ]
    }
   ],
   "source": [
    "from sklearn.metrics import f1_score\n",
    "print(f1_score(y_test, y_pred, average=\"binary\", pos_label=\"yes\"))"
   ]
  },
  {
   "cell_type": "markdown",
   "metadata": {},
   "source": [
    "The F1 score is a value between 0 and 1, and the higher the F1 score, the better the performance. We have achieved a 0.85, which is also a satisfying performance."
   ]
  },
  {
   "cell_type": "markdown",
   "metadata": {},
   "source": [
    "Another imbeded metric of RF with boostrap sampling is that it will calculate Out-of-Bag (OOB) error for you. When sampling with replacement, some observations are not selected into samples to be fit with the model. If you want to save time and skip a few lines of coding to split the training and test sets, or do cross validation, OOB error is easily available. As we can see below, 0.96 OOB error is a high performance."
   ]
  },
  {
   "cell_type": "code",
   "execution_count": 30,
   "metadata": {
    "scrolled": true
   },
   "outputs": [
    {
     "data": {
      "text/plain": [
       "0.9589915966386554"
      ]
     },
     "execution_count": 30,
     "metadata": {},
     "output_type": "execute_result"
    }
   ],
   "source": [
    "clf.oob_score_"
   ]
  },
  {
   "cell_type": "markdown",
   "metadata": {},
   "source": [
    "### 3.4  Interpretation: Variable Importances"
   ]
  },
  {
   "cell_type": "markdown",
   "metadata": {},
   "source": [
    "Many people would consider RF as hard to interpret. Indeed, we don't exactly know how each variable's role in leading to final output, considering the amount of randomness or variation involved in the process. For example, there are as many as 500 trees are fitted, and only a random subset of variables were considered at each split. \n",
    "\n",
    "However, RF has another important feature, variable importances, that can gives us some insight of how each variable weights in the decision process. It is usually measured based on how much the accuracy or impurity (gini) decreases when the variable is excluded. "
   ]
  },
  {
   "cell_type": "code",
   "execution_count": 31,
   "metadata": {
    "scrolled": true
   },
   "outputs": [],
   "source": [
    "importances = clf.feature_importances_"
   ]
  },
  {
   "cell_type": "code",
   "execution_count": 32,
   "metadata": {
    "scrolled": false
   },
   "outputs": [
    {
     "data": {
      "image/png": "[encoded data removed]",
      "text/plain": [
       "<Figure size 432x288 with 1 Axes>"
      ]
     },
     "metadata": {
      "needs_background": "light"
     },
     "output_type": "display_data"
    }
   ],
   "source": [
    "sorted_index = np.argsort(importances)\n",
    "labels = X_train.columns[sorted_index]\n",
    "\n",
    "plt.barh(range(X_train.shape[1]), importances[sorted_index], tick_label=labels)\n",
    "plt.show()"
   ]
  },
  {
   "cell_type": "markdown",
   "metadata": {},
   "source": [
    "We can see that `total_charge` and `total_minutes` are top 2 important indicators of churning. It tells us that charge and usage are important factor when customers decide to churn. The third most important variable is `number_customer_service_calls`, which is an indicator of the service quality or customer satisfaction. "
   ]
  },
  {
   "cell_type": "markdown",
   "metadata": {},
   "source": [
    "### 3.5 Tuning Hyperparameters"
   ]
  },
  {
   "cell_type": "markdown",
   "metadata": {},
   "source": [
    "We have achieved a great performance so far by fitting a RF model. However, there's still room for improvement. A `hyperparameter` or its value constrols an algorithm's learning process. There are a couple of interesting hyperparameter in a RF model:\n",
    "\n",
    "* `n_estimators`: Number of trees\n",
    "\n",
    "* `criterion`: metrix used for a split\n",
    "\n",
    "* `max_features`: Number of features for best split\n",
    "\n",
    "* `max_depth`: Max depth of trees\n",
    "\n",
    "* `min_sample_splits`: Minimum samples to split node\n",
    "\n",
    "* `bootstrap`: Whether Boostrap samples are used"
   ]
  },
  {
   "cell_type": "markdown",
   "metadata": {},
   "source": [
    "We can see a complete list of hyperparameters here:"
   ]
  },
  {
   "cell_type": "code",
   "execution_count": 33,
   "metadata": {
    "scrolled": true
   },
   "outputs": [
    {
     "data": {
      "text/plain": [
       "dict_keys(['bootstrap', 'ccp_alpha', 'class_weight', 'criterion', 'max_depth', 'max_features', 'max_leaf_nodes', 'max_samples', 'min_impurity_decrease', 'min_impurity_split', 'min_samples_leaf', 'min_samples_split', 'min_weight_fraction_leaf', 'n_estimators', 'n_jobs', 'oob_score', 'random_state', 'verbose', 'warm_start'])"
      ]
     },
     "execution_count": 33,
     "metadata": {},
     "output_type": "execute_result"
    }
   ],
   "source": [
    "clf.get_params().keys()\n",
    "#clf.get_params()"
   ]
  },
  {
   "cell_type": "markdown",
   "metadata": {},
   "source": [
    "We will do a grid search, that fits a RF model on all possible comibinations of the prspecified values of each hyperparameter and select the best performing model. While most people would use precision or accuracy as the deciding metric, I will use F1 score here. "
   ]
  },
  {
   "cell_type": "markdown",
   "metadata": {},
   "source": [
    "First let's specified the possible values of the hyperparameters:"
   ]
  },
  {
   "cell_type": "code",
   "execution_count": 34,
   "metadata": {},
   "outputs": [],
   "source": [
    "from sklearn.model_selection import GridSearchCV\n",
    "\n",
    "# Create the hyperparameter grid\n",
    "param_grid = {\"n_estimators\": [100, 300, 500],\n",
    "              \"max_depth\": [3, None],\n",
    "              \"max_features\": ['auto', 'sqrt', 'log2'],\n",
    "              \"min_samples_split\": [20, 40, 50]}"
   ]
  },
  {
   "cell_type": "code",
   "execution_count": 45,
   "metadata": {},
   "outputs": [],
   "source": [
    "# initiated the grid search function\n",
    "from sklearn.metrics import f1_score, make_scorer\n",
    "f1 = make_scorer(f1_score , average=\"binary\", pos_label='yes')"
   ]
  },
  {
   "cell_type": "code",
   "execution_count": 46,
   "metadata": {},
   "outputs": [],
   "source": [
    "grid_search = GridSearchCV(clf, param_grid, scoring = f1)"
   ]
  },
  {
   "cell_type": "code",
   "execution_count": 47,
   "metadata": {},
   "outputs": [
    {
     "data": {
      "text/plain": [
       "GridSearchCV(estimator=RandomForestClassifier(oob_score=True, random_state=1),\n",
       "             param_grid={'max_depth': [3, None],\n",
       "                         'max_features': ['auto', 'sqrt', 'log2'],\n",
       "                         'min_samples_split': [20, 40, 50],\n",
       "                         'n_estimators': [100, 300, 500]},\n",
       "             scoring=make_scorer(f1_score, average=binary, pos_label=yes))"
      ]
     },
     "execution_count": 47,
     "metadata": {},
     "output_type": "execute_result"
    }
   ],
   "source": [
    "# conduct the grid search\n",
    "grid_search.fit(X_train, y_train)"
   ]
  },
  {
   "cell_type": "markdown",
   "metadata": {},
   "source": [
    "Let's check out the best combination of parameters:"
   ]
  },
  {
   "cell_type": "code",
   "execution_count": 48,
   "metadata": {
    "scrolled": true
   },
   "outputs": [
    {
     "name": "stdout",
     "output_type": "stream",
     "text": [
      "{'max_depth': None, 'max_features': 'auto', 'min_samples_split': 20, 'n_estimators': 300}\n"
     ]
    }
   ],
   "source": [
    "print(grid_search.best_params_)"
   ]
  },
  {
   "cell_type": "markdown",
   "metadata": {},
   "source": [
    "Use the best parameters to refit the model:"
   ]
  },
  {
   "cell_type": "code",
   "execution_count": 55,
   "metadata": {},
   "outputs": [],
   "source": [
    "clf_opt = RandomForestClassifier(bootstrap=True, random_state = 1, oob_score=True,\n",
    "                                min_samples_split = 20, n_estimators = 300)"
   ]
  },
  {
   "cell_type": "code",
   "execution_count": 56,
   "metadata": {},
   "outputs": [
    {
     "data": {
      "text/plain": [
       "RandomForestClassifier(min_samples_split=20, n_estimators=300, oob_score=True,\n",
       "                       random_state=1)"
      ]
     },
     "execution_count": 56,
     "metadata": {},
     "output_type": "execute_result"
    }
   ],
   "source": [
    "clf_opt.fit(X_train, y_train)"
   ]
  },
  {
   "cell_type": "markdown",
   "metadata": {},
   "source": [
    "### 3.6 Final Model Comparison with ROC"
   ]
  },
  {
   "cell_type": "markdown",
   "metadata": {},
   "source": [
    "Now we have finished with hyperparameter tuning and grid search. It's time to compare the original model and the best performance model selected by grid search."
   ]
  },
  {
   "cell_type": "code",
   "execution_count": 61,
   "metadata": {},
   "outputs": [],
   "source": [
    "y_pred_opt = clf_opt.predict(X_test)"
   ]
  },
  {
   "cell_type": "code",
   "execution_count": 71,
   "metadata": {
    "scrolled": true
   },
   "outputs": [
    {
     "data": {
      "text/html": [
       "<div>\n",
       "<style scoped>\n",
       "    .dataframe tbody tr th:only-of-type {\n",
       "        vertical-align: middle;\n",
       "    }\n",
       "\n",
       "    .dataframe tbody tr th {\n",
       "        vertical-align: top;\n",
       "    }\n",
       "\n",
       "    .dataframe thead th {\n",
       "        text-align: right;\n",
       "    }\n",
       "</style>\n",
       "<table border=\"1\" class=\"dataframe\">\n",
       "  <thead>\n",
       "    <tr style=\"text-align: right;\">\n",
       "      <th></th>\n",
       "      <th>precision</th>\n",
       "      <th>recall</th>\n",
       "      <th>f1</th>\n",
       "      <th>oob_score</th>\n",
       "    </tr>\n",
       "  </thead>\n",
       "  <tbody>\n",
       "    <tr>\n",
       "      <th>original</th>\n",
       "      <td>0.957647</td>\n",
       "      <td>0.764103</td>\n",
       "      <td>0.846591</td>\n",
       "      <td>0.958992</td>\n",
       "    </tr>\n",
       "    <tr>\n",
       "      <th>best_selected</th>\n",
       "      <td>0.958431</td>\n",
       "      <td>0.758974</td>\n",
       "      <td>0.848138</td>\n",
       "      <td>0.958992</td>\n",
       "    </tr>\n",
       "  </tbody>\n",
       "</table>\n",
       "</div>"
      ],
      "text/plain": [
       "               precision    recall        f1  oob_score\n",
       "original        0.957647  0.764103  0.846591   0.958992\n",
       "best_selected   0.958431  0.758974  0.848138   0.958992"
      ]
     },
     "execution_count": 71,
     "metadata": {},
     "output_type": "execute_result"
    }
   ],
   "source": [
    "pd.DataFrame({'precision': [clf.score(X_test, y_test), clf_opt.score(X_test, y_test)],\n",
    "'recall': [recall_score(y_test, y_pred, average=\"binary\", pos_label='yes'),\n",
    "recall_score(y_test, y_pred_opt, average=\"binary\", pos_label='yes')],\n",
    "'f1':[f1_score(y_test, y_pred, average=\"binary\", pos_label=\"yes\"),\n",
    "f1_score(y_test, y_pred_opt, average=\"binary\", pos_label=\"yes\")],\n",
    "'oob_score': [clf.oob_score_, clf_opt.oob_score_]}, index = ['original', 'best_selected'])"
   ]
  },
  {
   "cell_type": "markdown",
   "metadata": {},
   "source": [
    "It looks like the hyperparameter tuning did not yield significant improvement in precision and F1 score. Surprisingly, the recall score is smaller than the original model. In this case, we will choose original model as our final predicting model. "
   ]
  },
  {
   "cell_type": "markdown",
   "metadata": {},
   "source": [
    "#### ROC"
   ]
  },
  {
   "cell_type": "markdown",
   "metadata": {},
   "source": [
    "One last comparison will be the (Receiver operating characteristic) ROC curve and area under the curve (AUC). ROC curve plots false positive rate against true positive rate all classification thresholds. We are looking for a model that yields small false positive rate while also gives us large true positive rate. Therefore, the higher the AUC, the better. "
   ]
  },
  {
   "cell_type": "code",
   "execution_count": 78,
   "metadata": {},
   "outputs": [],
   "source": [
    "from sklearn.metrics import roc_curve\n",
    "\n",
    "# original model\n",
    "y_pred_prob = clf.predict_proba(X_test)[:, 1]\n",
    "fpr, tpr, thresholds = roc_curve(y_test, y_pred_prob, pos_label=\"yes\")\n",
    "\n",
    "# model selected by grid search\n",
    "y_pred_opt_prob = clf_opt.predict_proba(X_test)[:, 1]\n",
    "fpr_opt, tpr_opt, thresholds_opt = roc_curve(y_test, y_pred_opt_prob, pos_label=\"yes\")"
   ]
  },
  {
   "cell_type": "code",
   "execution_count": 82,
   "metadata": {
    "scrolled": true
   },
   "outputs": [
    {
     "data": {
      "image/png": "[encoded data removed]",
      "text/plain": [
       "<Figure size 432x288 with 1 Axes>"
      ]
     },
     "metadata": {
      "needs_background": "light"
     },
     "output_type": "display_data"
    }
   ],
   "source": [
    "plt.plot(fpr, tpr, label = 'original')\n",
    "plt.plot(fpr_opt, tpr_opt, label = 'best_selected')\n",
    "plt.plot([0, 1], [0, 1], \"k--\")\n",
    "\n",
    "plt.legend(loc=\"upper right\")\n",
    "plt.show()"
   ]
  },
  {
   "cell_type": "markdown",
   "metadata": {},
   "source": [
    "Let's compare the AUC between 2 models:"
   ]
  },
  {
   "cell_type": "code",
   "execution_count": 84,
   "metadata": {},
   "outputs": [
    {
     "data": {
      "text/plain": [
       "[0.9067830009496676, 0.9102659069325737]"
      ]
     },
     "execution_count": 84,
     "metadata": {},
     "output_type": "execute_result"
    }
   ],
   "source": [
    "from sklearn.metrics import roc_auc_score\n",
    "[roc_auc_score(y_test, y_pred_prob), roc_auc_score(y_test, y_pred_opt_prob)]"
   ]
  },
  {
   "cell_type": "markdown",
   "metadata": {},
   "source": [
    "The latter model performs slightly better in terms of AUC but the margin is not high enough for us to change the predicting model."
   ]
  },
  {
   "cell_type": "markdown",
   "metadata": {},
   "source": [
    "# 4. Make the predicting and submit to Kaggle!"
   ]
  },
  {
   "cell_type": "markdown",
   "metadata": {},
   "source": [
    "It's time to make the predicting and submit the submission dataset to Kaggle using our choosen model."
   ]
  },
  {
   "cell_type": "code",
   "execution_count": 93,
   "metadata": {},
   "outputs": [],
   "source": [
    "X_test_k = test.drop('id', axis=1)"
   ]
  },
  {
   "cell_type": "code",
   "execution_count": 94,
   "metadata": {},
   "outputs": [],
   "source": [
    "y_pred_k = clf.predict(X_test_k)"
   ]
  },
  {
   "cell_type": "code",
   "execution_count": 109,
   "metadata": {},
   "outputs": [],
   "source": [
    "submission = pd.DataFrame({\n",
    "    'id': test.id.tolist(),\n",
    "    'churn': y_pred_k.tolist()\n",
    "})"
   ]
  },
  {
   "cell_type": "code",
   "execution_count": 111,
   "metadata": {
    "scrolled": true
   },
   "outputs": [],
   "source": [
    "submission.to_csv (r'/Users/panyujun/Documents/Portfolio/customer_churn/data/submission.csv', index = False, header=True)"
   ]
  },
  {
   "cell_type": "markdown",
   "metadata": {},
   "source": [
    "# 5. Recap"
   ]
  },
  {
   "cell_type": "markdown",
   "metadata": {},
   "source": [
    "What do we learn from this exercise:\n",
    "\n",
    "1. Cleaning data, feature selection and feature engineering is probably much more important than just fitting the model. Domain knowledge is the key.\n",
    "\n",
    "2. It's important to select the right metrics, which largely depends on business needs. \n",
    "\n",
    "3. Tuning hyperparameter might not give you the marginal yield you expected. "
   ]
  }
 ],
 "metadata": {
  "kernelspec": {
   "display_name": "Python 3",
   "language": "python",
   "name": "python3"
  },
  "language_info": {
   "codemirror_mode": {
    "name": "ipython",
    "version": 3
   },
   "file_extension": ".py",
   "mimetype": "text/x-python",
   "name": "python",
   "nbconvert_exporter": "python",
   "pygments_lexer": "ipython3",
   "version": "3.7.2"
  }
 },
 "nbformat": 4,
 "nbformat_minor": 2
}
