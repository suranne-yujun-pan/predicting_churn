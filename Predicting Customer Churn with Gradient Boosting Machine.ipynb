{
 "cells": [
  {
   "cell_type": "markdown",
   "metadata": {},
   "source": [
    "# Predicting Customer Churn with Gradient Boosting Machine"
   ]
  },
  {
   "cell_type": "markdown",
   "metadata": {},
   "source": [
    "In this article, we will predict customer churn using Gradient Boosting Machine GBM. \n",
    "\n",
    "To briefly introduce GBM, let's introduce the feature of GBM by comparing with Random Forest (RF).\n",
    "\n",
    "1. Both RF and GBM are tree-based algorithms and they both make multiple trees (in R, default number of trees for RF is 500) to reach a decision\n",
    "\n",
    "2. In RF, every tree is made independently; however, with GBM, each tree grows sequentially, meaning that the order matters and each tree is dependent on the previous tree (the 'weak learner'), specifically the residuals\n",
    "\n",
    "3. In RF, every tree weights the same, meaning each tree has the same amount of say; in contrast, GBM assigns each tree with different weight, or the 'learning rate'; GBM increases the weight of incorrectly classified sample and decreases the weight of correctly classified sample\n",
    "\n",
    "4. GBM allows user-defined loss function, which it uses to optimise (minimize) when growing each tree\n",
    "\n",
    "Most important thing to remember that GBM grows trees sequentially and each tree is grown to improve the previous tree, particulary to minimize the residuals. The 'learning rate' is an important parameter here. It's adviced  to set the learning rate small, i.e. to take many small steps to get to the desired prediction."
   ]
  },
  {
   "cell_type": "markdown",
   "metadata": {},
   "source": [
    "## 1. Load Data"
   ]
  },
  {
   "cell_type": "markdown",
   "metadata": {},
   "source": [
    "First, let's load the data from [Kaggle](https://www.kaggle.com/c/customer-churn-prediction-2020/overview) challenge.\n",
    "\n",
    "Data cleaning, feature engineering and feature selection has already been processed and can be found [here](https://github.com/suranne-yujun-pan/predicting_churn/blob/master/Predicting_Customer_Churn_Random_Forest.ipynb) in the previous article."
   ]
  },
  {
   "cell_type": "code",
   "execution_count": 1,
   "metadata": {},
   "outputs": [],
   "source": [
    "import numpy as np\n",
    "import pandas as pd\n",
    "import matplotlib.pyplot as plt\n",
    "import seaborn as sns"
   ]
  },
  {
   "cell_type": "code",
   "execution_count": 2,
   "metadata": {},
   "outputs": [],
   "source": [
    "train = pd.read_csv(\"/Users/panyujun/Documents/Portfolio/customer_churn/data/cleaned/train.csv\")\n",
    "test = pd.read_csv(\"/Users/panyujun/Documents/Portfolio/customer_churn/data/cleaned/test.csv\")"
   ]
  },
  {
   "cell_type": "code",
   "execution_count": 3,
   "metadata": {},
   "outputs": [],
   "source": [
    "train['churn'] = train['churn'].replace({'no':0, 'yes':1})"
   ]
  },
  {
   "cell_type": "markdown",
   "metadata": {},
   "source": [
    "## 2. Train GBM Model"
   ]
  },
  {
   "cell_type": "markdown",
   "metadata": {},
   "source": [
    "### 2.1 Split data into training and test set"
   ]
  },
  {
   "cell_type": "markdown",
   "metadata": {},
   "source": [
    "Split the dataset into training and test set using the 80/20 rule."
   ]
  },
  {
   "cell_type": "code",
   "execution_count": 39,
   "metadata": {},
   "outputs": [],
   "source": [
    "from sklearn.model_selection import train_test_split\n",
    "\n",
    "X = train.drop('churn', axis=1)\n",
    "y = train['churn']\n",
    "\n",
    "X_train, X_test, y_train, y_test = train_test_split(X, y, test_size=0.2, random_state = 42)"
   ]
  },
  {
   "cell_type": "markdown",
   "metadata": {},
   "source": [
    "Now let's initialize the GBM classifier and take a look at the hyperparameters and its values."
   ]
  },
  {
   "cell_type": "code",
   "execution_count": 52,
   "metadata": {},
   "outputs": [
    {
     "data": {
      "text/plain": [
       "GradientBoostingRegressor(random_state=2)"
      ]
     },
     "execution_count": 52,
     "metadata": {},
     "output_type": "execute_result"
    }
   ],
   "source": [
    "from sklearn import ensemble\n",
    "clf = ensemble.GradientBoostingRegressor(random_state=2)\n",
    "clf.fit(X_train, y_train)"
   ]
  },
  {
   "cell_type": "code",
   "execution_count": 7,
   "metadata": {
    "scrolled": true
   },
   "outputs": [
    {
     "data": {
      "text/plain": [
       "{'alpha': 0.9,\n",
       " 'ccp_alpha': 0.0,\n",
       " 'criterion': 'friedman_mse',\n",
       " 'init': None,\n",
       " 'learning_rate': 0.1,\n",
       " 'loss': 'ls',\n",
       " 'max_depth': 3,\n",
       " 'max_features': None,\n",
       " 'max_leaf_nodes': None,\n",
       " 'min_impurity_decrease': 0.0,\n",
       " 'min_impurity_split': None,\n",
       " 'min_samples_leaf': 1,\n",
       " 'min_samples_split': 2,\n",
       " 'min_weight_fraction_leaf': 0.0,\n",
       " 'n_estimators': 100,\n",
       " 'n_iter_no_change': None,\n",
       " 'presort': 'deprecated',\n",
       " 'random_state': 1,\n",
       " 'subsample': 1.0,\n",
       " 'tol': 0.0001,\n",
       " 'validation_fraction': 0.1,\n",
       " 'verbose': 0,\n",
       " 'warm_start': False}"
      ]
     },
     "execution_count": 7,
     "metadata": {},
     "output_type": "execute_result"
    }
   ],
   "source": [
    "clf.get_params()"
   ]
  },
  {
   "cell_type": "markdown",
   "metadata": {},
   "source": [
    "We will come back to these values when tuning the hyperparameters later."
   ]
  },
  {
   "cell_type": "markdown",
   "metadata": {},
   "source": [
    "### 2.2 Evaluating the Model Performance\n",
    "\n",
    "For now, let's focus on the performance of the classifier:"
   ]
  },
  {
   "cell_type": "markdown",
   "metadata": {},
   "source": [
    "#### Precision:"
   ]
  },
  {
   "cell_type": "code",
   "execution_count": 53,
   "metadata": {
    "scrolled": false
   },
   "outputs": [
    {
     "data": {
      "text/plain": [
       "0.6973373393179885"
      ]
     },
     "execution_count": 53,
     "metadata": {},
     "output_type": "execute_result"
    }
   ],
   "source": [
    "clf.score(X_test, y_test)"
   ]
  },
  {
   "cell_type": "markdown",
   "metadata": {},
   "source": [
    "This is a rather low precision. However, be mindful that the default number of trees here is 100 and the learning rate is 0.1. Usually, the default value for `n_estimators` is 500. We will come back to this later when tuning the hyperparameters."
   ]
  },
  {
   "cell_type": "markdown",
   "metadata": {},
   "source": [
    "#### Recall or sensitivity:"
   ]
  },
  {
   "cell_type": "markdown",
   "metadata": {},
   "source": [
    "The calculation of sensitivity is a bit tricky here, since we are transforming predicted probailities to binary encoding.\n",
    "\n",
    "Let's first recode the churn variable to 0 and 1, using 0.5 as threshold."
   ]
  },
  {
   "cell_type": "code",
   "execution_count": 75,
   "metadata": {
    "scrolled": true
   },
   "outputs": [],
   "source": [
    "from sklearn.metrics import recall_score\n",
    "y_pred = clf.predict(X_test)\n",
    "y_pred = np.where(y_pred > 0.5, 1, 0)"
   ]
  },
  {
   "cell_type": "code",
   "execution_count": 76,
   "metadata": {
    "scrolled": false
   },
   "outputs": [
    {
     "name": "stdout",
     "output_type": "stream",
     "text": [
      "[[716   5]\n",
      " [ 31  98]]\n"
     ]
    }
   ],
   "source": [
    "from sklearn.metrics import confusion_matrix\n",
    "print(confusion_matrix(y_test, y_pred, labels=[0,1]))"
   ]
  },
  {
   "cell_type": "markdown",
   "metadata": {},
   "source": [
    "The sensitivity calculated from confusion matrix is:"
   ]
  },
  {
   "cell_type": "code",
   "execution_count": 56,
   "metadata": {
    "scrolled": false
   },
   "outputs": [
    {
     "data": {
      "text/plain": [
       "0.7596899224806202"
      ]
     },
     "execution_count": 56,
     "metadata": {},
     "output_type": "execute_result"
    }
   ],
   "source": [
    "98/(31+98)"
   ]
  },
  {
   "cell_type": "markdown",
   "metadata": {},
   "source": [
    "Or we can use the `recall_score` function:"
   ]
  },
  {
   "cell_type": "code",
   "execution_count": 77,
   "metadata": {
    "scrolled": true
   },
   "outputs": [
    {
     "data": {
      "text/plain": [
       "0.7596899224806202"
      ]
     },
     "execution_count": 77,
     "metadata": {},
     "output_type": "execute_result"
    }
   ],
   "source": [
    "recall_score(y_test, y_pred)"
   ]
  },
  {
   "cell_type": "markdown",
   "metadata": {},
   "source": [
    "#### F1 score:"
   ]
  },
  {
   "cell_type": "code",
   "execution_count": 78,
   "metadata": {
    "scrolled": false
   },
   "outputs": [
    {
     "data": {
      "text/plain": [
       "0.8448275862068966"
      ]
     },
     "execution_count": 78,
     "metadata": {},
     "output_type": "execute_result"
    }
   ],
   "source": [
    "from sklearn.metrics import f1_score\n",
    "f1_score(y_test, y_pred)"
   ]
  },
  {
   "cell_type": "markdown",
   "metadata": {},
   "source": [
    "### 2.3 Tuning Hyperparameters"
   ]
  },
  {
   "cell_type": "markdown",
   "metadata": {},
   "source": [
    "First, let's define the possible values of hyperparameters in GBM. A lot of these hyperparameters should look familiar in Random Forest. Below is a list of the hyperparameters we are going to define in the tuning process."
   ]
  },
  {
   "cell_type": "markdown",
   "metadata": {},
   "source": [
    "* `n_estimators`: Number of trees\n",
    "\n",
    "* `learning_rate`: Values that shrinks the contribution of each tree\n",
    "\n",
    "* `max_depth`: Max depth of trees\n",
    "\n",
    "* `max_features`: Number of features for best split\n",
    "\n",
    "* `min_sample_splits`: Minimum samples to split node\n",
    "\n",
    "* `min_samples_leaf`: Minimum samples in each leaf node"
   ]
  },
  {
   "cell_type": "markdown",
   "metadata": {},
   "source": [
    "First let's define a parameters grid with possible values for each hyperparameter:"
   ]
  },
  {
   "cell_type": "code",
   "execution_count": 112,
   "metadata": {},
   "outputs": [],
   "source": [
    "param_grid = {\"n_estimators\": [100, 200, 300, 400, 500, 600],\n",
    "              'learning_rate': [0.01, 0.03, 0.05, 0.08, 0.1],\n",
    "              \"max_depth\": [3, None],\n",
    "              \"max_features\": ['auto', 'sqrt', 'log2', None],\n",
    "              \"min_samples_split\": [20, 40, 50],\n",
    "             \"min_samples_leaf\": [1,5,10,20]}"
   ]
  },
  {
   "cell_type": "markdown",
   "metadata": {},
   "source": [
    "After defining the hyperparameter grid, the most conventional thing to do would be going through each combination of the hyperparameters and test the model performance. However, given the large number of hyperparameters here, I've decided to do a random search. Instead of going through every combination, random search randomly select each observation in the parameters grid dataset and pick the one with the best performance, which is less computing expensive compared to grid search."
   ]
  },
  {
   "cell_type": "markdown",
   "metadata": {},
   "source": [
    "The code should look very similar to `GridSearchCV`"
   ]
  },
  {
   "cell_type": "code",
   "execution_count": 113,
   "metadata": {},
   "outputs": [],
   "source": [
    "from sklearn.model_selection import RandomizedSearchCV"
   ]
  },
  {
   "cell_type": "code",
   "execution_count": 114,
   "metadata": {},
   "outputs": [],
   "source": [
    "random_search = RandomizedSearchCV(clf, param_grid)"
   ]
  },
  {
   "cell_type": "code",
   "execution_count": 115,
   "metadata": {
    "scrolled": true
   },
   "outputs": [
    {
     "data": {
      "text/plain": [
       "RandomizedSearchCV(estimator=GradientBoostingRegressor(random_state=2),\n",
       "                   param_distributions={'learning_rate': [0.01, 0.03, 0.05,\n",
       "                                                          0.08, 0.1],\n",
       "                                        'max_depth': [3, None],\n",
       "                                        'max_features': ['auto', 'sqrt', 'log2',\n",
       "                                                         None],\n",
       "                                        'min_samples_leaf': [1, 5, 10, 20],\n",
       "                                        'min_samples_split': [20, 40, 50],\n",
       "                                        'n_estimators': [100, 200, 300, 400,\n",
       "                                                         500, 600]})"
      ]
     },
     "execution_count": 115,
     "metadata": {},
     "output_type": "execute_result"
    }
   ],
   "source": [
    "random_search.fit(X_train, y_train)"
   ]
  },
  {
   "cell_type": "markdown",
   "metadata": {},
   "source": [
    "Let's take a look at the hyperparameters of the chosen model:"
   ]
  },
  {
   "cell_type": "code",
   "execution_count": 116,
   "metadata": {
    "scrolled": true
   },
   "outputs": [
    {
     "data": {
      "text/plain": [
       "{'n_estimators': 200,\n",
       " 'min_samples_split': 40,\n",
       " 'min_samples_leaf': 20,\n",
       " 'max_features': None,\n",
       " 'max_depth': 3,\n",
       " 'learning_rate': 0.1}"
      ]
     },
     "execution_count": 116,
     "metadata": {},
     "output_type": "execute_result"
    }
   ],
   "source": [
    "random_search.best_params_"
   ]
  },
  {
   "cell_type": "markdown",
   "metadata": {},
   "source": [
    "It's time to feed these parameters into the model:"
   ]
  },
  {
   "cell_type": "code",
   "execution_count": 117,
   "metadata": {},
   "outputs": [
    {
     "data": {
      "text/plain": [
       "GradientBoostingRegressor(min_samples_leaf=20, min_samples_split=40,\n",
       "                          n_estimators=200, random_state=142)"
      ]
     },
     "execution_count": 117,
     "metadata": {},
     "output_type": "execute_result"
    }
   ],
   "source": [
    "clf_opt = ensemble.GradientBoostingRegressor(random_state=142,\n",
    "                                        n_estimators = 200,\n",
    "                                        min_samples_split = 40,\n",
    "                                        min_samples_leaf = 20,\n",
    "                                        max_features = None,\n",
    "                                        max_depth = 3,\n",
    "                                        learning_rate = 0.1)\n",
    "clf_opt.fit(X_train, y_train)"
   ]
  },
  {
   "cell_type": "code",
   "execution_count": 118,
   "metadata": {
    "scrolled": false
   },
   "outputs": [
    {
     "data": {
      "text/plain": [
       "0.6996044711225413"
      ]
     },
     "execution_count": 118,
     "metadata": {},
     "output_type": "execute_result"
    }
   ],
   "source": [
    "clf_opt.score(X_test, y_test)"
   ]
  },
  {
   "cell_type": "markdown",
   "metadata": {},
   "source": [
    "We can see that the new model did not improve significantly compared to previous model. It's hard to make a decision at the moment. We will continue to do some digging and make final decision."
   ]
  },
  {
   "cell_type": "markdown",
   "metadata": {},
   "source": [
    "## 3. Model Comparison"
   ]
  },
  {
   "cell_type": "code",
   "execution_count": 119,
   "metadata": {},
   "outputs": [],
   "source": [
    "y_pred_opt = clf_opt.predict(X_test)\n",
    "y_pred_opt = np.where(y_pred_opt > 0.5, 1, 0)"
   ]
  },
  {
   "cell_type": "code",
   "execution_count": 122,
   "metadata": {
    "scrolled": true
   },
   "outputs": [
    {
     "data": {
      "text/html": [
       "<div>\n",
       "<style scoped>\n",
       "    .dataframe tbody tr th:only-of-type {\n",
       "        vertical-align: middle;\n",
       "    }\n",
       "\n",
       "    .dataframe tbody tr th {\n",
       "        vertical-align: top;\n",
       "    }\n",
       "\n",
       "    .dataframe thead th {\n",
       "        text-align: right;\n",
       "    }\n",
       "</style>\n",
       "<table border=\"1\" class=\"dataframe\">\n",
       "  <thead>\n",
       "    <tr style=\"text-align: right;\">\n",
       "      <th></th>\n",
       "      <th>precision</th>\n",
       "      <th>recall</th>\n",
       "      <th>f1</th>\n",
       "    </tr>\n",
       "  </thead>\n",
       "  <tbody>\n",
       "    <tr>\n",
       "      <th>original</th>\n",
       "      <td>0.697337</td>\n",
       "      <td>0.75969</td>\n",
       "      <td>0.844828</td>\n",
       "    </tr>\n",
       "    <tr>\n",
       "      <th>random_search</th>\n",
       "      <td>0.699604</td>\n",
       "      <td>0.75969</td>\n",
       "      <td>0.841202</td>\n",
       "    </tr>\n",
       "  </tbody>\n",
       "</table>\n",
       "</div>"
      ],
      "text/plain": [
       "               precision   recall        f1\n",
       "original        0.697337  0.75969  0.844828\n",
       "random_search   0.699604  0.75969  0.841202"
      ]
     },
     "execution_count": 122,
     "metadata": {},
     "output_type": "execute_result"
    }
   ],
   "source": [
    "pd.DataFrame({'precision': [clf.score(X_test, y_test), clf_opt.score(X_test, y_test)],\n",
    "'recall': [recall_score(y_test, y_pred), recall_score(y_test, y_pred_opt)],\n",
    "'f1':[f1_score(y_test, y_pred), f1_score(y_test, y_pred_opt)]},\n",
    "             index = ['original', 'random_search'])"
   ]
  },
  {
   "cell_type": "markdown",
   "metadata": {},
   "source": [
    "We can see from the metrics that the model selected by random search performs slightly better. "
   ]
  },
  {
   "cell_type": "code",
   "execution_count": 130,
   "metadata": {},
   "outputs": [],
   "source": [
    "from sklearn.metrics import roc_curve\n",
    "\n",
    "# original model\n",
    "y_pred = clf.predict(X_test)\n",
    "fpr, tpr, thresholds = roc_curve(y_test, y_pred)"
   ]
  },
  {
   "cell_type": "code",
   "execution_count": 131,
   "metadata": {},
   "outputs": [],
   "source": [
    "# model selected by grid search\n",
    "y_pred_opt = clf_opt.predict(X_test)\n",
    "fpr_opt, tpr_opt, thresholds_opt = roc_curve(y_test, y_pred_opt)"
   ]
  },
  {
   "cell_type": "code",
   "execution_count": 133,
   "metadata": {},
   "outputs": [
    {
     "data": {
      "image/png": "[encoded data removed]",
      "text/plain": [
       "<Figure size 432x288 with 1 Axes>"
      ]
     },
     "metadata": {
      "needs_background": "light"
     },
     "output_type": "display_data"
    }
   ],
   "source": [
    "plt.plot(fpr, tpr, label = 'original')\n",
    "plt.plot(fpr_opt, tpr_opt, label = 'random_search')\n",
    "plt.plot([0, 1], [0, 1], \"k--\")\n",
    "\n",
    "plt.legend(loc=\"upper right\")\n",
    "plt.show()"
   ]
  },
  {
   "cell_type": "code",
   "execution_count": 135,
   "metadata": {},
   "outputs": [
    {
     "data": {
      "text/plain": [
       "[0.9324689008590566, 0.9346837402831983]"
      ]
     },
     "execution_count": 135,
     "metadata": {},
     "output_type": "execute_result"
    }
   ],
   "source": [
    "from sklearn.metrics import roc_auc_score\n",
    "[roc_auc_score(y_test, y_pred), roc_auc_score(y_test, y_pred_opt)]"
   ]
  },
  {
   "cell_type": "markdown",
   "metadata": {},
   "source": [
    "Therefore, we will choose the model selected by random search as our final predicting model."
   ]
  }
 ],
 "metadata": {
  "kernelspec": {
   "display_name": "Python 3",
   "language": "python",
   "name": "python3"
  },
  "language_info": {
   "codemirror_mode": {
    "name": "ipython",
    "version": 3
   },
   "file_extension": ".py",
   "mimetype": "text/x-python",
   "name": "python",
   "nbconvert_exporter": "python",
   "pygments_lexer": "ipython3",
   "version": "3.7.2"
  }
 },
 "nbformat": 4,
 "nbformat_minor": 2
}
